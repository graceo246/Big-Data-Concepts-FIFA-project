{
  "nbformat": 4,
  "nbformat_minor": 0,
  "metadata": {
    "colab": {
      "provenance": [],
      "authorship_tag": "ABX9TyNmEZ2tIkiDSiuA465vJY1f",
      "include_colab_link": true
    },
    "kernelspec": {
      "name": "python3",
      "display_name": "Python 3"
    },
    "language_info": {
      "name": "python"
    }
  },
  "cells": [
    {
      "cell_type": "markdown",
      "metadata": {
        "id": "view-in-github",
        "colab_type": "text"
      },
      "source": [
        "<a href=\"https://colab.research.google.com/github/graceo246/Big-Data-Concepts-FIFA-project/blob/main/BigData.ipynb\" target=\"_parent\"><img src=\"https://colab.research.google.com/assets/colab-badge.svg\" alt=\"Open In Colab\"/></a>"
      ]
    },
    {
      "cell_type": "code",
      "execution_count": null,
      "metadata": {
        "colab": {
          "base_uri": "https://localhost:8080/"
        },
        "id": "47w7PLGK_914",
        "outputId": "afd647dd-d0f7-47d5-8d22-bfd7a31ba48a"
      },
      "outputs": [
        {
          "output_type": "stream",
          "name": "stdout",
          "text": [
            "<bound method NDFrame.head of           id                     name   rating  position   height    foot  \\\n",
            "0       1001             Gábor Király       69        GK      191   Right   \n",
            "1     100143             Frederik Boi       65         M      184   Right   \n",
            "2     100264          Tomasz Szewczuk       57         A      185   Right   \n",
            "3     100325   Steeve Joseph-Reinette       63         D      180    Left   \n",
            "4     100326             Kamel Chafni       72         M      181   Right   \n",
            "...      ...                      ...      ...       ...      ...     ...   \n",
            "8842    9801          Danijel Ljuboja       73         A      189    Left   \n",
            "8843    9805            Craig Bellamy       79         A      175   Right   \n",
            "8844    9807            Michel Breuer       68         D      183   Right   \n",
            "8845    9815              Gill Swerts       65         D      179   Right   \n",
            "8846    9913              Mehdi Nafti       69         M      179   Right   \n",
            "\n",
            "       rare  pace  shooting  passing  dribbling  defending  heading  diving  \\\n",
            "0         0                                                              70   \n",
            "1         0    61        65       63         59         62       62           \n",
            "2         0    65        54       43         53         55       74           \n",
            "3         0    68        38       51         46         64       71           \n",
            "4         0    75        64       67         72         57       66           \n",
            "...     ...   ...       ...      ...        ...        ...      ...     ...   \n",
            "8842      1    62        73       64         74         56       68           \n",
            "8843      0    80        78       67         81         62       71           \n",
            "8844      0    61        40       56         51         70       74           \n",
            "8845      0    65        48       63         65         67       69           \n",
            "8846      0    55        56       64         65         69       60           \n",
            "\n",
            "      handling  kicking  reflexes  speed   positioning  \n",
            "0           66       63        74     35          66.0  \n",
            "1                                                  NaN  \n",
            "2                                                  NaN  \n",
            "3                                                  NaN  \n",
            "4                                                  NaN  \n",
            "...        ...      ...       ...    ...           ...  \n",
            "8842                                               NaN  \n",
            "8843                                               NaN  \n",
            "8844                                               NaN  \n",
            "8845                                               NaN  \n",
            "8846                                               NaN  \n",
            "\n",
            "[8847 rows x 19 columns]>\n"
          ]
        }
      ],
      "source": [
        "import pandas as pd\n",
        "import numpy as np\n",
        "import matplotlib.pyplot as plt\n",
        "\n",
        "df = pd.read_csv(\"fifa.csv\")\n",
        "print(df.head)\n",
        "\n"
      ]
    },
    {
      "cell_type": "code",
      "source": [
        "df = pd.read_csv('fifa.csv')\n",
        "\n",
        "left_foot_df = df[df[' foot'] == 'Left']\n",
        "right_foot_df = df[df[' foot'] == 'Right']\n",
        "\n",
        "\n",
        "left_foot_passing_mean = left_foot_df[' passing'].mean()\n",
        "right_foot_passing_mean = right_foot_df[' passing'].mean()\n",
        "\n",
        "\n",
        "if left_foot_passing_mean > right_foot_passing_mean:\n",
        "    print(\"Left foot players have a higher mean passing accuracy.\")\n",
        "elif left_foot_passing_mean < right_foot_passing_mean:\n",
        "    print(\"Right foot players have a higher mean passing accuracy.\")\n",
        "else:\n",
        "    print(\"Left foot and right foot players have the same mean passing accuracy.\")"
      ],
      "metadata": {
        "colab": {
          "base_uri": "https://localhost:8080/"
        },
        "id": "sKRvDeM1WcUu",
        "outputId": "063924a8-d134-4fee-826f-3c7bc067784a"
      },
      "execution_count": null,
      "outputs": [
        {
          "output_type": "stream",
          "name": "stdout",
          "text": [
            "Left foot and right foot players have the same mean passing accuracy.\n"
          ]
        }
      ]
    },
    {
      "cell_type": "code",
      "source": [
        "df = pd.read_csv('fifa.csv')\n",
        "\n",
        "\n",
        "df = df.sort_values(by=' rating', ascending=False)\n",
        "\n",
        "\n",
        "top_10_df = df.head(10)\n",
        "\n",
        "\n",
        "for index, row in top_10_df.iterrows():\n",
        "    print(\"Player Name: \", row[' name'])\n",
        "    print(\"Position: \", row[' position'])\n",
        "    print(\"Overall Rating: \", row[' rating'])\n",
        "    print(\"Height: \", row[' height'])\n",
        "    print(\"Preferred Foot: \", row[' foot'])\n",
        "    print(\"Pace: \", row[' pace'])\n",
        "    print(\"Dribbling: \", row[' dribbling'])\n",
        "    print(\"Shooting: \", row[' shooting'])\n",
        "    print(\"\\n\")"
      ],
      "metadata": {
        "colab": {
          "base_uri": "https://localhost:8080/"
        },
        "id": "S969ZLgZhTb6",
        "outputId": "9be40fa8-ca76-4c0e-b7fa-9e10a15b1b02"
      },
      "execution_count": null,
      "outputs": [
        {
          "output_type": "stream",
          "name": "stdout",
          "text": [
            "Player Name:   Lionel Messi\n",
            "Position:   A\n",
            "Overall Rating:  94\n",
            "Height:  169\n",
            "Preferred Foot:   Left\n",
            "Pace:   93\n",
            "Dribbling:   97\n",
            "Shooting:   87\n",
            "\n",
            "\n",
            "Player Name:   Xavi\n",
            "Position:   M\n",
            "Overall Rating:  92\n",
            "Height:  170\n",
            "Preferred Foot:   Right\n",
            "Pace:   67\n",
            "Dribbling:   85\n",
            "Shooting:   72\n",
            "\n",
            "\n",
            "Player Name:   Cristiano Ronaldo\n",
            "Position:   A\n",
            "Overall Rating:  92\n",
            "Height:  186\n",
            "Preferred Foot:   Right\n",
            "Pace:   92\n",
            "Dribbling:   93\n",
            "Shooting:   90\n",
            "\n",
            "\n",
            "Player Name:   Iniesta\n",
            "Position:   M\n",
            "Overall Rating:  91\n",
            "Height:  170\n",
            "Preferred Foot:   Right\n",
            "Pace:   78\n",
            "Dribbling:   91\n",
            "Shooting:   72\n",
            "\n",
            "\n",
            "Player Name:   Arjen Robben\n",
            "Position:   M\n",
            "Overall Rating:  90\n",
            "Height:  181\n",
            "Preferred Foot:   Left\n",
            "Pace:   93\n",
            "Dribbling:   93\n",
            "Shooting:   85\n",
            "\n",
            "\n",
            "Player Name:   Wayne Rooney\n",
            "Position:   A\n",
            "Overall Rating:  90\n",
            "Height:  177\n",
            "Preferred Foot:   Right\n",
            "Pace:   83\n",
            "Dribbling:   84\n",
            "Shooting:   88\n",
            "\n",
            "\n",
            "Player Name:   Nemanja Vidić\n",
            "Position:   D\n",
            "Overall Rating:  89\n",
            "Height:  189\n",
            "Preferred Foot:   Right\n",
            "Pace:   67\n",
            "Dribbling:   52\n",
            "Shooting:   44\n",
            "\n",
            "\n",
            "Player Name:   Casillas\n",
            "Position:   GK\n",
            "Overall Rating:  89\n",
            "Height:  182\n",
            "Preferred Foot:   Left\n",
            "Pace:   \n",
            "Dribbling:   \n",
            "Shooting:   \n",
            "\n",
            "\n",
            "Player Name:   Luka Modrić\n",
            "Position:   M\n",
            "Overall Rating:  88\n",
            "Height:  175\n",
            "Preferred Foot:   Right\n",
            "Pace:   79\n",
            "Dribbling:   86\n",
            "Shooting:   76\n",
            "\n",
            "\n",
            "Player Name:   David Villa\n",
            "Position:   A\n",
            "Overall Rating:  88\n",
            "Height:  175\n",
            "Preferred Foot:   Right\n",
            "Pace:   85\n",
            "Dribbling:   86\n",
            "Shooting:   89\n",
            "\n",
            "\n"
          ]
        }
      ]
    },
    {
      "cell_type": "code",
      "source": [
        "import pandas as pd\n",
        "df = pd.read_csv(\"fifa.csv\")\n",
        "maxrating= df[' rating'].idxmax()\n",
        "player=df.loc[maxrating]\n",
        "\n",
        "player_name=player[' name']\n",
        "player_foot=player[' foot']\n",
        "print(f\"the highest rated player is{player_name} who plays with{player_foot}foot\")"
      ],
      "metadata": {
        "colab": {
          "base_uri": "https://localhost:8080/"
        },
        "id": "mM8pAc57KZSI",
        "outputId": "b5327095-8818-43f7-a592-1663d17522b5"
      },
      "execution_count": null,
      "outputs": [
        {
          "output_type": "stream",
          "name": "stdout",
          "text": [
            "the highest rated player is Lionel Messi who plays with Leftfoot\n"
          ]
        }
      ]
    },
    {
      "cell_type": "code",
      "source": [
        "import pandas as pd\n",
        "import matplotlib.pyplot as plt\n",
        "\n",
        "avg_rating_by_position = df.groupby(' position')[' rating'].mean()\n",
        "\n",
        "plt.bar(avg_rating_by_position.index, avg_rating_by_position)\n",
        "\n",
        "plt.xlabel(' Position')\n",
        "plt.ylabel('Average Rating')\n",
        "plt.title('Average Rating by Position')\n",
        "\n",
        "plt.show()"
      ],
      "metadata": {
        "colab": {
          "base_uri": "https://localhost:8080/",
          "height": 472
        },
        "id": "IDcRyjJzZmsh",
        "outputId": "1d9bcf6f-d766-42de-ca26-e1e4391e782e"
      },
      "execution_count": null,
      "outputs": [
        {
          "output_type": "display_data",
          "data": {
            "text/plain": [
              "<Figure size 640x480 with 1 Axes>"
            ],
            "image/png": "[encoded data removed]"
          },
          "metadata": {}
        }
      ]
    },
    {
      "cell_type": "code",
      "source": [
        "sorted_df= df.sort_values(' rating', ascending=False)\n",
        "players= sorted_df.head(20)\n",
        "\n",
        "print(players)"
      ],
      "metadata": {
        "colab": {
          "base_uri": "https://localhost:8080/"
        },
        "id": "vZqN7e2vOgbT",
        "outputId": "8a8305e6-abba-457a-822b-754603e9a7fd"
      },
      "execution_count": null,
      "outputs": [
        {
          "output_type": "stream",
          "name": "stdout",
          "text": [
            "          id                   name   rating  position   height    foot  \\\n",
            "2195  158023           Lionel Messi       94         A      169    Left   \n",
            "123    10535                   Xavi       92         M      170   Right   \n",
            "7943   20801      Cristiano Ronaldo       92         A      186   Right   \n",
            "8131      41                Iniesta       91         M      170   Right   \n",
            "8829    9014           Arjen Robben       90         M      181    Left   \n",
            "8697   54050           Wayne Rooney       90         A      177   Right   \n",
            "1199  140601          Nemanja Vidić       89         D      189   Right   \n",
            "8708    5479               Casillas       89        GK      182    Left   \n",
            "3904  177003            Luka Modrić       88         M      175   Right   \n",
            "349   113422            David Villa       88         A      175   Right   \n",
            "8138   41236     Zlatan Ibrahimović       88         A      195   Right   \n",
            "1782  152729                  Piqué       88         D      192   Right   \n",
            "1267  143001           Carlos Tévez       88         A      172   Right   \n",
            "1134  139869        Wesley Sneijder       88         M      170   Right   \n",
            "2066  156616          Franck Ribéry       88         M      170   Right   \n",
            "8836    9676           Samuel Eto'o       88         A      180   Right   \n",
            "2519  162895          Cesc Fàbregas       88         M      175   Right   \n",
            "816    13743         Steven Gerrard       87         M      183   Right   \n",
            "8707    5471          Frank Lampard       87         M      184   Right   \n",
            "8220   45574   Rafael van der Vaart       87         M      176    Left   \n",
            "\n",
            "       rare  pace  shooting  passing  dribbling  defending  heading  diving  \\\n",
            "2195      1    93        87       82         97         46       67           \n",
            "123       1    67        72       92         85         68       53           \n",
            "7943      1    92        90       79         93         59       89           \n",
            "8131      1    78        72       90         91         65       55           \n",
            "8829      1    93        85       81         93         53       60           \n",
            "8697      1    83        88       79         84         71       81           \n",
            "1199      1    67        44       58         52         89       91           \n",
            "8708      1                                                              91   \n",
            "3904      1    79        76       86         86         66       62           \n",
            "349       1    85        89       73         86         57       73           \n",
            "8138      1    79        89       78         87         65       82           \n",
            "1782      1    66        52       74         65         86       81           \n",
            "1267      1    84        87       75         83         69       74           \n",
            "1134      1    79        80       88         84         63       49           \n",
            "2066      1    91        78       81         93         50       54           \n",
            "8836      1    93        83       68         85         58       79           \n",
            "2519      1    71        80       89         83         69       65           \n",
            "816       1    76        87       88         77         78       76           \n",
            "8707      1    67        88       84         80         75       71           \n",
            "8220      1    67        84       86         83         57       59           \n",
            "\n",
            "      handling  kicking  reflexes  speed   positioning  \n",
            "2195                                               NaN  \n",
            "123                                                NaN  \n",
            "7943                                               NaN  \n",
            "8131                                               NaN  \n",
            "8829                                               NaN  \n",
            "8697                                               NaN  \n",
            "1199                                               NaN  \n",
            "8708        83       69        93     69          87.0  \n",
            "3904                                               NaN  \n",
            "349                                                NaN  \n",
            "8138                                               NaN  \n",
            "1782                                               NaN  \n",
            "1267                                               NaN  \n",
            "1134                                               NaN  \n",
            "2066                                               NaN  \n",
            "8836                                               NaN  \n",
            "2519                                               NaN  \n",
            "816                                                NaN  \n",
            "8707                                               NaN  \n",
            "8220                                               NaN  \n"
          ]
        }
      ]
    },
    {
      "cell_type": "code",
      "source": [
        "df2 = df.sort_values(by=[' foot',' passing'])\n",
        "print(df2)"
      ],
      "metadata": {
        "colab": {
          "base_uri": "https://localhost:8080/"
        },
        "id": "_O0d5VLVP8DZ",
        "outputId": "7e51b85e-702e-4a0d-ccf8-1c3c59f3dc0c"
      },
      "execution_count": null,
      "outputs": [
        {
          "output_type": "stream",
          "name": "stdout",
          "text": [
            "          id                   name   rating  position   height    foot  \\\n",
            "65    101997            David Lucas       61        GK      188    Left   \n",
            "116   105308   Jean Francois Gillet       77        GK      181    Left   \n",
            "156   106795        Gianluca Pegolo       62        GK      183    Left   \n",
            "373   114356           Marco Wölfli       71        GK      186    Left   \n",
            "375   114604                 Juanma       63        GK      182    Left   \n",
            "...      ...                    ...      ...       ...      ...     ...   \n",
            "816    13743         Steven Gerrard       87         M      183   Right   \n",
            "1134  139869        Wesley Sneijder       88         M      170   Right   \n",
            "2519  162895          Cesc Fàbregas       88         M      175   Right   \n",
            "8131      41                Iniesta       91         M      170   Right   \n",
            "123    10535                   Xavi       92         M      170   Right   \n",
            "\n",
            "       rare  pace  shooting  passing  dribbling  defending  heading  diving  \\\n",
            "65        0                                                              57   \n",
            "116       0                                                              75   \n",
            "156       1                                                              57   \n",
            "373       1                                                              71   \n",
            "375       1                                                              59   \n",
            "...     ...   ...       ...      ...        ...        ...      ...     ...   \n",
            "816       1    76        87       88         77         78       76           \n",
            "1134      1    79        80       88         84         63       49           \n",
            "2519      1    71        80       89         83         69       65           \n",
            "8131      1    78        72       90         91         65       55           \n",
            "123       1    67        72       92         85         68       53           \n",
            "\n",
            "      handling  kicking  reflexes  speed   positioning  \n",
            "65          60       64        66     54          60.0  \n",
            "116         73       74        80     60          76.0  \n",
            "156         68       58        66     47          60.0  \n",
            "373         67       74        78     64          68.0  \n",
            "375         62       56        66     48          68.0  \n",
            "...        ...      ...       ...    ...           ...  \n",
            "816                                                NaN  \n",
            "1134                                               NaN  \n",
            "2519                                               NaN  \n",
            "8131                                               NaN  \n",
            "123                                                NaN  \n",
            "\n",
            "[8847 rows x 19 columns]\n"
          ]
        }
      ]
    },
    {
      "cell_type": "code",
      "source": [
        "left_footed = df[df[' foot'] == 'Left']\n",
        "right_footed = df[df[' foot'] == 'Right']\n",
        "\n",
        "\n",
        "left_passing_accuracy = left_footed[' passing'].mean()\n",
        "right_passing_accuracy = right_footed[' passing'].mean()\n",
        "\n",
        "\n",
        "if left_passing_accuracy > right_passing_accuracy:\n",
        "    print(\"Left-footed players have higher passing accuracy.\")\n",
        "elif left_passing_accuracy < right_passing_accuracy:\n",
        "    print(\"Right-footed players have higher passing accuracy.\")\n",
        "else:\n",
        "    print(\"There is no difference in passing accuracy between left-footed and right-footed players.\")"
      ],
      "metadata": {
        "colab": {
          "base_uri": "https://localhost:8080/"
        },
        "id": "fZMx7eNyMQOR",
        "outputId": "b32efb00-9c7b-4648-d533-f23f4dd0cbe8"
      },
      "execution_count": null,
      "outputs": [
        {
          "output_type": "stream",
          "name": "stdout",
          "text": [
            "There is no difference in passing accuracy between left-footed and right-footed players.\n"
          ]
        }
      ]
    },
    {
      "cell_type": "code",
      "source": [
        "position_ratings = df.groupby(' position')[' rating'].mean()\n",
        "\n",
        "\n",
        "highest_rating_position = position_ratings.idxmax()\n",
        "highest_rating = position_ratings.max()\n",
        "print(f\"The position with the highest rating is {highest_rating_position} with an average rating of {highest_rating}\")"
      ],
      "metadata": {
        "colab": {
          "base_uri": "https://localhost:8080/"
        },
        "id": "V96rJ6hTVdhA",
        "outputId": "cbcf4278-c26c-44a9-cc0d-02ce95b3f328"
      },
      "execution_count": null,
      "outputs": [
        {
          "output_type": "stream",
          "name": "stdout",
          "text": [
            "The position with the highest rating is  A with an average rating of 67.26080691642652\n"
          ]
        }
      ]
    },
    {
      "cell_type": "code",
      "source": [
        "position_ratings = df.groupby(' position')[' rating'].mean()\n",
        "\n",
        "\n",
        "for position, rating in position_ratings.items():\n",
        "    print(f\"{position}: {rating:.2f}\")"
      ],
      "metadata": {
        "colab": {
          "base_uri": "https://localhost:8080/"
        },
        "id": "HZTE1IPnWxDr",
        "outputId": "ffc183ab-816c-49d6-eeba-d08246c2be60"
      },
      "execution_count": null,
      "outputs": [
        {
          "output_type": "stream",
          "name": "stdout",
          "text": [
            " A: 67.26\n",
            " D: 66.06\n",
            " GK: 65.92\n",
            " M: 67.09\n"
          ]
        }
      ]
    },
    {
      "cell_type": "code",
      "source": [
        "Passing = df[' passing']\n",
        "print(Passing)"
      ],
      "metadata": {
        "colab": {
          "base_uri": "https://localhost:8080/"
        },
        "id": "EHvzr_jRAziM",
        "outputId": "1bc964f5-f49a-40ad-e032-988d00b80632"
      },
      "execution_count": null,
      "outputs": [
        {
          "output_type": "stream",
          "name": "stdout",
          "text": [
            "0          \n",
            "1        63\n",
            "2        43\n",
            "3        51\n",
            "4        67\n",
            "       ... \n",
            "8842     64\n",
            "8843     67\n",
            "8844     56\n",
            "8845     63\n",
            "8846     64\n",
            "Name:  passing, Length: 8847, dtype: object\n"
          ]
        }
      ]
    },
    {
      "cell_type": "code",
      "source": [
        "Rating = df[' rating']\n",
        "print(Rating)"
      ],
      "metadata": {
        "colab": {
          "base_uri": "https://localhost:8080/"
        },
        "id": "002IHWeTBMpa",
        "outputId": "a3e6fa23-04bb-4755-d698-c681b8f3c45a"
      },
      "execution_count": null,
      "outputs": [
        {
          "output_type": "stream",
          "name": "stdout",
          "text": [
            "0       69\n",
            "1       65\n",
            "2       57\n",
            "3       63\n",
            "4       72\n",
            "        ..\n",
            "8842    73\n",
            "8843    79\n",
            "8844    68\n",
            "8845    65\n",
            "8846    69\n",
            "Name:  rating, Length: 8847, dtype: int64\n"
          ]
        }
      ]
    },
    {
      "cell_type": "code",
      "source": [
        "\n",
        "\n",
        "highest = pd.DataFrame(df)\n",
        "\n",
        "print(highest.max())"
      ],
      "metadata": {
        "colab": {
          "base_uri": "https://localhost:8080/"
        },
        "id": "rv3s0oXmCCqK",
        "outputId": "3147b04e-b349-424e-e64f-a2519d444d43"
      },
      "execution_count": null,
      "outputs": [
        {
          "output_type": "stream",
          "name": "stdout",
          "text": [
            "id                        205583\n",
            " name            Žarco Tomašević\n",
            " rating                       94\n",
            " position                      M\n",
            " height                      208\n",
            " foot                      Right\n",
            " rare                          1\n",
            " pace                         96\n",
            " shooting                     90\n",
            " passing                      92\n",
            " dribbling                    97\n",
            " defending                    89\n",
            " heading                      91\n",
            " diving                       91\n",
            " handling                     86\n",
            " kicking                      94\n",
            " reflexes                     93\n",
            " speed                        73\n",
            " positioning                91.0\n",
            "dtype: object\n"
          ]
        }
      ]
    },
    {
      "cell_type": "code",
      "source": [
        "col = \" rating\"\n",
        "max_x = df.loc[df[col].idxmax()]\n",
        "print (\"The highest\" ,col, \"rated player is\",max_x)"
      ],
      "metadata": {
        "colab": {
          "base_uri": "https://localhost:8080/"
        },
        "id": "sbOVWJWeCpfD",
        "outputId": "d08231cf-32f5-4b7d-e5e8-6ebade78178f"
      },
      "execution_count": null,
      "outputs": [
        {
          "output_type": "stream",
          "name": "stdout",
          "text": [
            "The highest  rating rated player is id                     158023\n",
            " name            Lionel Messi\n",
            " rating                    94\n",
            " position                   A\n",
            " height                   169\n",
            " foot                    Left\n",
            " rare                       1\n",
            " pace                      93\n",
            " shooting                  87\n",
            " passing                   82\n",
            " dribbling                 97\n",
            " defending                 46\n",
            " heading                   67\n",
            " diving                      \n",
            " handling                    \n",
            " kicking                     \n",
            " reflexes                    \n",
            " speed                       \n",
            " positioning              NaN\n",
            "Name: 2195, dtype: object\n"
          ]
        }
      ]
    },
    {
      "cell_type": "code",
      "source": [
        "import matplotlib.pyplot as plt\n",
        "plt.scatter(df[' position'], df[' height'])\n",
        "plt.show()"
      ],
      "metadata": {
        "colab": {
          "base_uri": "https://localhost:8080/",
          "height": 432
        },
        "id": "n_mNEVKtIWqM",
        "outputId": "09c3fa12-67f0-4355-c1ac-279f5f40e1dd"
      },
      "execution_count": null,
      "outputs": [
        {
          "output_type": "display_data",
          "data": {
            "text/plain": [
              "<Figure size 640x480 with 1 Axes>"
            ],
            "image/png": "[encoded data removed]"
          },
          "metadata": {}
        }
      ]
    },
    {
      "cell_type": "code",
      "source": [
        "above_174 = df[df[' height'] > 174]\n",
        "below_174 = df[df[' height'] <= 174]\n",
        "\n",
        "\n",
        "mean_above = above_174[' rating'].mean()\n",
        "mean_below = below_174[' rating'].mean()\n",
        "\n",
        "\n",
        "print('Mean rating for players above 174cm:', mean_above)\n",
        "print('Mean rating for players below or equal to 174cm:', mean_below)"
      ],
      "metadata": {
        "colab": {
          "base_uri": "https://localhost:8080/"
        },
        "id": "mwFGdy-cIy0k",
        "outputId": "84447f20-46de-4608-f1ad-8fee5cc2010d"
      },
      "execution_count": null,
      "outputs": [
        {
          "output_type": "stream",
          "name": "stdout",
          "text": [
            "Mean rating for players above 174cm: 66.5675992192583\n",
            "Mean rating for players below or equal to 174cm: 67.42685025817556\n"
          ]
        }
      ]
    },
    {
      "cell_type": "code",
      "source": [
        "plt.bar(['Above 174cm', 'Below or equal to 174cm'], [mean_above, mean_below])\n",
        "plt.title('Mean player rating by height')\n",
        "plt.xlabel('Height')\n",
        "plt.ylabel('Mean rating')\n",
        "plt.show()"
      ],
      "metadata": {
        "colab": {
          "base_uri": "https://localhost:8080/",
          "height": 472
        },
        "id": "D-1OVqIEI_RB",
        "outputId": "200c3f5d-abee-428d-e373-b8736d4c7c45"
      },
      "execution_count": null,
      "outputs": [
        {
          "output_type": "display_data",
          "data": {
            "text/plain": [
              "<Figure size 640x480 with 1 Axes>"
            ],
            "image/png": "[encoded data removed]"
          },
          "metadata": {}
        }
      ]
    }
  ]
}